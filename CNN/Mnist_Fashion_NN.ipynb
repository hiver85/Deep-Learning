{
  "nbformat": 4,
  "nbformat_minor": 0,
  "metadata": {
    "colab": {
      "name": "Mnist_Fashion_NN.ipynb",
      "version": "0.3.2",
      "provenance": [],
      "collapsed_sections": []
    },
    "kernelspec": {
      "name": "python3",
      "display_name": "Python 3"
    },
    "accelerator": "GPU"
  },
  "cells": [
    {
      "metadata": {
        "id": "ei7DhQs9U9h_",
        "colab_type": "code",
        "outputId": "14160355-9a6e-419a-ff99-b778d6b59157",
        "colab": {
          "base_uri": "https://localhost:8080/",
          "height": 35
        }
      },
      "cell_type": "code",
      "source": [
        "from keras.datasets import fashion_mnist"
      ],
      "execution_count": 0,
      "outputs": [
        {
          "output_type": "stream",
          "text": [
            "Using TensorFlow backend.\n"
          ],
          "name": "stderr"
        }
      ]
    },
    {
      "metadata": {
        "id": "g0zeMKzXWhQb",
        "colab_type": "code",
        "outputId": "2162e640-41ce-4699-b01c-bed5c81bb581",
        "colab": {
          "base_uri": "https://localhost:8080/",
          "height": 156
        }
      },
      "cell_type": "code",
      "source": [
        "(train_X,train_Y), (test_X,test_Y) = fashion_mnist.load_data()"
      ],
      "execution_count": 0,
      "outputs": [
        {
          "output_type": "stream",
          "text": [
            "Downloading data from http://fashion-mnist.s3-website.eu-central-1.amazonaws.com/train-labels-idx1-ubyte.gz\n",
            "32768/29515 [=================================] - 0s 0us/step\n",
            "Downloading data from http://fashion-mnist.s3-website.eu-central-1.amazonaws.com/train-images-idx3-ubyte.gz\n",
            "26427392/26421880 [==============================] - 1s 0us/step\n",
            "Downloading data from http://fashion-mnist.s3-website.eu-central-1.amazonaws.com/t10k-labels-idx1-ubyte.gz\n",
            "8192/5148 [===============================================] - 0s 0us/step\n",
            "Downloading data from http://fashion-mnist.s3-website.eu-central-1.amazonaws.com/t10k-images-idx3-ubyte.gz\n",
            "4423680/4422102 [==============================] - 0s 0us/step\n"
          ],
          "name": "stdout"
        }
      ]
    },
    {
      "metadata": {
        "id": "Cb1rN67-Wtux",
        "colab_type": "code",
        "outputId": "b855f955-956f-4920-9bc9-e557f3f18999",
        "colab": {
          "base_uri": "https://localhost:8080/",
          "height": 52
        }
      },
      "cell_type": "code",
      "source": [
        "import numpy as np\n",
        "from keras.utils import to_categorical\n",
        "import matplotlib.pyplot as plt\n",
        "%matplotlib inline\n",
        "\n",
        "print('Training data shape : ', train_X.shape, train_Y.shape)\n",
        "\n",
        "print('Testing data shape : ', test_X.shape, test_Y.shape)"
      ],
      "execution_count": 0,
      "outputs": [
        {
          "output_type": "stream",
          "text": [
            "Training data shape :  (60000, 28, 28) (60000,)\n",
            "Testing data shape :  (10000, 28, 28) (10000,)\n"
          ],
          "name": "stdout"
        }
      ]
    },
    {
      "metadata": {
        "id": "pYRH4qK3X9mS",
        "colab_type": "text"
      },
      "cell_type": "markdown",
      "source": [
        "=> There are 6000 sample of training and 1000 of testing \n",
        "There are 28 * 28 features / colunms "
      ]
    },
    {
      "metadata": {
        "id": "YIAAvt-QW0cT",
        "colab_type": "code",
        "outputId": "e4bde1ea-1ac7-4775-a378-95598c09c40c",
        "colab": {
          "base_uri": "https://localhost:8080/",
          "height": 52
        }
      },
      "cell_type": "code",
      "source": [
        "# Find the unique numbers from the train labels\n",
        "classes = np.unique(train_Y)\n",
        "nClasses = len(classes)\n",
        "print('Total number of outputs : ', nClasses)\n",
        "print('Output classes : ', classes)"
      ],
      "execution_count": 0,
      "outputs": [
        {
          "output_type": "stream",
          "text": [
            "Total number of outputs :  10\n",
            "Output classes :  [0 1 2 3 4 5 6 7 8 9]\n"
          ],
          "name": "stdout"
        }
      ]
    },
    {
      "metadata": {
        "id": "FusAu_cdW25h",
        "colab_type": "code",
        "colab": {}
      },
      "cell_type": "code",
      "source": [
        "plt.figure(figsize=[5,5])\n",
        "\n",
        "# Display the first image in training data\n",
        "# subplot (nrows, ncols, and index) => Draw an image in a space of nrow and ncolumn, at the position \"index\"\n",
        "plt.subplot(121)\n",
        "\n",
        "plt.imshow(train_X[0,:,:], cmap='gray')\n",
        "plt.title(\"Train_Label : {}\".format(train_Y[0]))\n",
        "\n",
        "# Display the first image in testing data\n",
        "plt.subplot(122)\n",
        "plt.imshow(test_X[0,:,:], cmap='gray')\n",
        "plt.title(\"Test_Label : {}\".format(test_Y[0]))\n"
      ],
      "execution_count": 0,
      "outputs": []
    },
    {
      "metadata": {
        "id": "s0fYvvHlW40J",
        "colab_type": "code",
        "outputId": "3f8ea773-5183-4aff-ab52-08a14f2d6248",
        "colab": {
          "base_uri": "https://localhost:8080/",
          "height": 35
        }
      },
      "cell_type": "code",
      "source": [
        "#Convert images to matrix 28*28*1 for CNN  \n",
        "train_X = train_X.reshape(-1, 28,28, 1)\n",
        "test_X = test_X.reshape(-1, 28,28, 1)\n",
        "train_X.shape, test_X.shape"
      ],
      "execution_count": 0,
      "outputs": [
        {
          "output_type": "execute_result",
          "data": {
            "text/plain": [
              "((60000, 28, 28, 1), (10000, 28, 28, 1))"
            ]
          },
          "metadata": {
            "tags": []
          },
          "execution_count": 6
        }
      ]
    },
    {
      "metadata": {
        "id": "rHpy3EvMW6az",
        "colab_type": "code",
        "colab": {}
      },
      "cell_type": "code",
      "source": [
        "#Convert image value to -1;1\n",
        "train_X = train_X.astype('float32')\n",
        "test_X = test_X.astype('float32')\n",
        "\n",
        "train_X = train_X / 255.\n",
        "test_X = test_X / 255."
      ],
      "execution_count": 0,
      "outputs": []
    },
    {
      "metadata": {
        "id": "8axeeJ0OW7-k",
        "colab_type": "code",
        "outputId": "dfc55dc4-f1b3-4dc5-8b34-ffa3eaa10331",
        "colab": {
          "base_uri": "https://localhost:8080/",
          "height": 52
        }
      },
      "cell_type": "code",
      "source": [
        "# Change the labels from categorical to one-hot encoding\n",
        "train_Y_one_hot = to_categorical(train_Y)\n",
        "test_Y_one_hot = to_categorical(test_Y)\n",
        "\n",
        "# Display the change for category label using one-hot encoding\n",
        "print('Original label:', train_Y[0])\n",
        "print('After conversion to one-hot:', train_Y_one_hot[0])"
      ],
      "execution_count": 0,
      "outputs": [
        {
          "output_type": "stream",
          "text": [
            "Original label: 9\n",
            "After conversion to one-hot: [0. 0. 0. 0. 0. 0. 0. 0. 0. 1.]\n"
          ],
          "name": "stdout"
        }
      ]
    },
    {
      "metadata": {
        "id": "EBktzFkEl_BS",
        "colab_type": "code",
        "outputId": "c6ef0f78-79c6-4fc1-cf2d-527b482eae35",
        "colab": {
          "base_uri": "https://localhost:8080/",
          "height": 173
        }
      },
      "cell_type": "code",
      "source": [
        " train_Y_one_hot[0:9,]"
      ],
      "execution_count": 0,
      "outputs": [
        {
          "output_type": "execute_result",
          "data": {
            "text/plain": [
              "array([[0., 0., 0., 0., 0., 0., 0., 0., 0., 1.],\n",
              "       [1., 0., 0., 0., 0., 0., 0., 0., 0., 0.],\n",
              "       [1., 0., 0., 0., 0., 0., 0., 0., 0., 0.],\n",
              "       [0., 0., 0., 1., 0., 0., 0., 0., 0., 0.],\n",
              "       [1., 0., 0., 0., 0., 0., 0., 0., 0., 0.],\n",
              "       [0., 0., 1., 0., 0., 0., 0., 0., 0., 0.],\n",
              "       [0., 0., 0., 0., 0., 0., 0., 1., 0., 0.],\n",
              "       [0., 0., 1., 0., 0., 0., 0., 0., 0., 0.],\n",
              "       [0., 0., 0., 0., 0., 1., 0., 0., 0., 0.]], dtype=float32)"
            ]
          },
          "metadata": {
            "tags": []
          },
          "execution_count": 9
        }
      ]
    },
    {
      "metadata": {
        "id": "MXVrwLmOW9nK",
        "colab_type": "code",
        "colab": {}
      },
      "cell_type": "code",
      "source": [
        "# split into training and validating \n",
        "from sklearn.model_selection import train_test_split\n",
        "train_X,valid_X,train_label,valid_label = train_test_split(train_X, train_Y_one_hot, test_size=0.2, random_state=13)"
      ],
      "execution_count": 0,
      "outputs": []
    },
    {
      "metadata": {
        "id": "un12t7fjW_LF",
        "colab_type": "code",
        "outputId": "75de054c-4732-4ef4-bc6e-7d2c65475013",
        "colab": {
          "base_uri": "https://localhost:8080/",
          "height": 35
        }
      },
      "cell_type": "code",
      "source": [
        "train_X.shape,valid_X.shape,train_label.shape,valid_label.shape"
      ],
      "execution_count": 0,
      "outputs": [
        {
          "output_type": "execute_result",
          "data": {
            "text/plain": [
              "((48000, 28, 28, 1), (12000, 28, 28, 1), (48000, 10), (12000, 10))"
            ]
          },
          "metadata": {
            "tags": []
          },
          "execution_count": 11
        }
      ]
    },
    {
      "metadata": {
        "id": "-mlxcPzeXJXT",
        "colab_type": "text"
      },
      "cell_type": "markdown",
      "source": [
        "Model the data"
      ]
    },
    {
      "metadata": {
        "id": "F3GuZ47tXBYD",
        "colab_type": "code",
        "colab": {}
      },
      "cell_type": "code",
      "source": [
        "import keras\n",
        "from keras.models import Sequential,Input,Model\n",
        "from keras.layers import Dense, Dropout, Flatten\n",
        "from keras.layers import Conv2D, MaxPooling2D\n",
        "from keras.layers.normalization import BatchNormalization\n",
        "from keras.layers.advanced_activations import LeakyReLU"
      ],
      "execution_count": 0,
      "outputs": []
    },
    {
      "metadata": {
        "id": "x1rMkdtTXDHl",
        "colab_type": "code",
        "colab": {}
      },
      "cell_type": "code",
      "source": [
        "# batch_size: the number of images in one forward/backward pass\n",
        "# epoch: one training round (one forward pass and one backward pass of all the training examples)\n",
        "# num_classes: total number of output classes\n",
        "batch_size = 64\n",
        "epochs = 20\n",
        "num_classes = 10"
      ],
      "execution_count": 0,
      "outputs": []
    },
    {
      "metadata": {
        "id": "frEGIO5_XRUs",
        "colab_type": "code",
        "colab": {}
      },
      "cell_type": "code",
      "source": [
        "fashion_model = Sequential()"
      ],
      "execution_count": 0,
      "outputs": []
    },
    {
      "metadata": {
        "id": "SWVLBqxcfylS",
        "colab_type": "code",
        "outputId": "627f4868-c969-467a-98b7-28fa65f088ed",
        "colab": {
          "base_uri": "https://localhost:8080/",
          "height": 35
        }
      },
      "cell_type": "code",
      "source": [
        "print (fashion_model)"
      ],
      "execution_count": 0,
      "outputs": [
        {
          "output_type": "stream",
          "text": [
            "<keras.engine.sequential.Sequential object at 0x7fad38c97470>\n"
          ],
          "name": "stdout"
        }
      ]
    },
    {
      "metadata": {
        "id": "WHgdEo4bfu9_",
        "colab_type": "code",
        "colab": {}
      },
      "cell_type": "code",
      "source": [
        "# Model: Convolution layer for feature extracting, linear function and padding to avoid the shrinkage of feature map (matrix)\n",
        "# Add LeakyreLU to allow a small gradient when the unit is not active\n",
        "# MaxPooling: Reduce the dimensionality\n",
        "# Flatten: Flatten for output classfication \n",
        "# Softmax: to ensure the sum of probility of classes = 1\n",
        "fashion_model.add(Conv2D(32, kernel_size=(3, 3),activation='linear',input_shape=(28,28,1),padding='same'))\n",
        "fashion_model.add(LeakyReLU(alpha=0.1))\n",
        "fashion_model.add(MaxPooling2D((2, 2),padding='same'))\n",
        "fashion_model.add(Conv2D(64, (3, 3), activation='linear',padding='same'))\n",
        "fashion_model.add(LeakyReLU(alpha=0.1))\n",
        "fashion_model.add(MaxPooling2D(pool_size=(2, 2),padding='same'))\n",
        "fashion_model.add(Conv2D(128, (3, 3), activation='linear',padding='same'))\n",
        "fashion_model.add(LeakyReLU(alpha=0.1))                  \n",
        "fashion_model.add(MaxPooling2D(pool_size=(2, 2),padding='same'))\n",
        "fashion_model.add(Flatten())\n",
        "fashion_model.add(Dense(128, activation='linear'))\n",
        "fashion_model.add(LeakyReLU(alpha=0.1))                  \n",
        "fashion_model.add(Dense(num_classes, activation='softmax'))"
      ],
      "execution_count": 0,
      "outputs": []
    },
    {
      "metadata": {
        "id": "1D_aYv18XS_0",
        "colab_type": "code",
        "colab": {}
      },
      "cell_type": "code",
      "source": [
        "#losses.categorical_crossentropy : log loss, measures the performance of a classification model whose output is a probability value between 0 and 1\n",
        "#optimizers Adam: a kind of stochastic gradient descent but better\n",
        "#metrics=to evaluate the training \n",
        "fashion_model.compile(loss=keras.losses.categorical_crossentropy, optimizer=keras.optimizers.Adam(),metrics=['accuracy'])"
      ],
      "execution_count": 0,
      "outputs": []
    },
    {
      "metadata": {
        "id": "ls5RepcWXZEV",
        "colab_type": "code",
        "outputId": "e0d75ccd-09ea-41f3-e84b-47a6d449080d",
        "colab": {
          "base_uri": "https://localhost:8080/",
          "height": 589
        }
      },
      "cell_type": "code",
      "source": [
        "fashion_model.summary()"
      ],
      "execution_count": 0,
      "outputs": [
        {
          "output_type": "stream",
          "text": [
            "_________________________________________________________________\n",
            "Layer (type)                 Output Shape              Param #   \n",
            "=================================================================\n",
            "conv2d_1 (Conv2D)            (None, 28, 28, 32)        320       \n",
            "_________________________________________________________________\n",
            "leaky_re_lu_1 (LeakyReLU)    (None, 28, 28, 32)        0         \n",
            "_________________________________________________________________\n",
            "max_pooling2d_1 (MaxPooling2 (None, 14, 14, 32)        0         \n",
            "_________________________________________________________________\n",
            "conv2d_2 (Conv2D)            (None, 14, 14, 64)        18496     \n",
            "_________________________________________________________________\n",
            "leaky_re_lu_2 (LeakyReLU)    (None, 14, 14, 64)        0         \n",
            "_________________________________________________________________\n",
            "max_pooling2d_2 (MaxPooling2 (None, 7, 7, 64)          0         \n",
            "_________________________________________________________________\n",
            "conv2d_3 (Conv2D)            (None, 7, 7, 128)         73856     \n",
            "_________________________________________________________________\n",
            "leaky_re_lu_3 (LeakyReLU)    (None, 7, 7, 128)         0         \n",
            "_________________________________________________________________\n",
            "max_pooling2d_3 (MaxPooling2 (None, 4, 4, 128)         0         \n",
            "_________________________________________________________________\n",
            "flatten_1 (Flatten)          (None, 2048)              0         \n",
            "_________________________________________________________________\n",
            "dense_1 (Dense)              (None, 128)               262272    \n",
            "_________________________________________________________________\n",
            "leaky_re_lu_4 (LeakyReLU)    (None, 128)               0         \n",
            "_________________________________________________________________\n",
            "dense_2 (Dense)              (None, 10)                1290      \n",
            "=================================================================\n",
            "Total params: 356,234\n",
            "Trainable params: 356,234\n",
            "Non-trainable params: 0\n",
            "_________________________________________________________________\n"
          ],
          "name": "stdout"
        }
      ]
    },
    {
      "metadata": {
        "id": "Ba4yuIlVXcj1",
        "colab_type": "text"
      },
      "cell_type": "markdown",
      "source": [
        "Train the model "
      ]
    },
    {
      "metadata": {
        "id": "rh7NwPPTXhEe",
        "colab_type": "code",
        "outputId": "eb8839d2-7741-4238-eb09-63475e7d005c",
        "colab": {
          "base_uri": "https://localhost:8080/",
          "height": 728
        }
      },
      "cell_type": "code",
      "source": [
        "fashion_train = fashion_model.fit(train_X, train_label, batch_size=batch_size,epochs=epochs,verbose=1,validation_data=(valid_X, valid_label))"
      ],
      "execution_count": 0,
      "outputs": [
        {
          "output_type": "stream",
          "text": [
            "Train on 48000 samples, validate on 12000 samples\n",
            "Epoch 1/20\n",
            "48000/48000 [==============================] - 11s 227us/step - loss: 0.4683 - acc: 0.8298 - val_loss: 0.3311 - val_acc: 0.8797\n",
            "Epoch 2/20\n",
            "48000/48000 [==============================] - 10s 212us/step - loss: 0.2888 - acc: 0.8944 - val_loss: 0.2761 - val_acc: 0.8992\n",
            "Epoch 3/20\n",
            "48000/48000 [==============================] - 10s 210us/step - loss: 0.2430 - acc: 0.9102 - val_loss: 0.2489 - val_acc: 0.9078\n",
            "Epoch 4/20\n",
            "48000/48000 [==============================] - 10s 209us/step - loss: 0.2098 - acc: 0.9214 - val_loss: 0.2358 - val_acc: 0.9107\n",
            "Epoch 5/20\n",
            "48000/48000 [==============================] - 10s 208us/step - loss: 0.1819 - acc: 0.9328 - val_loss: 0.2650 - val_acc: 0.9050\n",
            "Epoch 6/20\n",
            "48000/48000 [==============================] - 10s 212us/step - loss: 0.1606 - acc: 0.9409 - val_loss: 0.2309 - val_acc: 0.9181\n",
            "Epoch 7/20\n",
            "48000/48000 [==============================] - 10s 210us/step - loss: 0.1392 - acc: 0.9462 - val_loss: 0.2320 - val_acc: 0.9174\n",
            "Epoch 8/20\n",
            "48000/48000 [==============================] - 10s 209us/step - loss: 0.1211 - acc: 0.9551 - val_loss: 0.2414 - val_acc: 0.9197\n",
            "Epoch 9/20\n",
            "48000/48000 [==============================] - 10s 208us/step - loss: 0.1002 - acc: 0.9623 - val_loss: 0.2563 - val_acc: 0.9187\n",
            "Epoch 10/20\n",
            "48000/48000 [==============================] - 10s 209us/step - loss: 0.0876 - acc: 0.9672 - val_loss: 0.2638 - val_acc: 0.9211\n",
            "Epoch 11/20\n",
            "48000/48000 [==============================] - 10s 209us/step - loss: 0.0723 - acc: 0.9719 - val_loss: 0.2933 - val_acc: 0.9236\n",
            "Epoch 12/20\n",
            "48000/48000 [==============================] - 10s 209us/step - loss: 0.0653 - acc: 0.9753 - val_loss: 0.3097 - val_acc: 0.9212\n",
            "Epoch 13/20\n",
            "48000/48000 [==============================] - 10s 207us/step - loss: 0.0558 - acc: 0.9788 - val_loss: 0.3385 - val_acc: 0.9194\n",
            "Epoch 14/20\n",
            "48000/48000 [==============================] - 10s 205us/step - loss: 0.0476 - acc: 0.9824 - val_loss: 0.3662 - val_acc: 0.9194\n",
            "Epoch 15/20\n",
            "48000/48000 [==============================] - 10s 205us/step - loss: 0.0408 - acc: 0.9853 - val_loss: 0.3473 - val_acc: 0.9217\n",
            "Epoch 16/20\n",
            "48000/48000 [==============================] - 10s 205us/step - loss: 0.0454 - acc: 0.9828 - val_loss: 0.3788 - val_acc: 0.9168\n",
            "Epoch 17/20\n",
            "48000/48000 [==============================] - 10s 205us/step - loss: 0.0347 - acc: 0.9870 - val_loss: 0.4141 - val_acc: 0.9204\n",
            "Epoch 18/20\n",
            "48000/48000 [==============================] - 10s 205us/step - loss: 0.0353 - acc: 0.9871 - val_loss: 0.4127 - val_acc: 0.9194\n",
            "Epoch 19/20\n",
            "48000/48000 [==============================] - 10s 205us/step - loss: 0.0316 - acc: 0.9884 - val_loss: 0.5024 - val_acc: 0.9120\n",
            "Epoch 20/20\n",
            "48000/48000 [==============================] - 10s 205us/step - loss: 0.0322 - acc: 0.9882 - val_loss: 0.4008 - val_acc: 0.9229\n"
          ],
          "name": "stdout"
        }
      ]
    },
    {
      "metadata": {
        "id": "6m5o3JbwlE_E",
        "colab_type": "code",
        "colab": {}
      },
      "cell_type": "code",
      "source": [
        "test_eval = fashion_model.evaluate(test_X, test_Y_one_hot, verbose=0)\n"
      ],
      "execution_count": 0,
      "outputs": []
    },
    {
      "metadata": {
        "id": "We5AQexTlH2U",
        "colab_type": "code",
        "outputId": "2c8cf129-3a2e-45a2-ac8e-a15d8ec38ffb",
        "colab": {
          "base_uri": "https://localhost:8080/",
          "height": 52
        }
      },
      "cell_type": "code",
      "source": [
        "print('Test loss:', test_eval[0])\n",
        "print('Test accuracy:', test_eval[1])"
      ],
      "execution_count": 0,
      "outputs": [
        {
          "output_type": "stream",
          "text": [
            "Test loss: 0.4897425325092394\n",
            "Test accuracy: 0.9165\n"
          ],
          "name": "stdout"
        }
      ]
    },
    {
      "metadata": {
        "id": "ATIT1q8v7ovS",
        "colab_type": "code",
        "outputId": "5f8f07f1-7588-4f01-f816-389e8730e37f",
        "colab": {
          "base_uri": "https://localhost:8080/",
          "height": 124
        }
      },
      "cell_type": "code",
      "source": [
        "from google.colab import drive \n",
        "drive.mount(\"/content/drive\")"
      ],
      "execution_count": 0,
      "outputs": [
        {
          "output_type": "stream",
          "text": [
            "Go to this URL in a browser: https://accounts.google.com/o/oauth2/auth?client_id=947318989803-6bn6qk8qdgf4n4g3pfee6491hc0brc4i.apps.googleusercontent.com&redirect_uri=urn%3Aietf%3Awg%3Aoauth%3A2.0%3Aoob&scope=email%20https%3A%2F%2Fwww.googleapis.com%2Fauth%2Fdocs.test%20https%3A%2F%2Fwww.googleapis.com%2Fauth%2Fdrive%20https%3A%2F%2Fwww.googleapis.com%2Fauth%2Fdrive.photos.readonly%20https%3A%2F%2Fwww.googleapis.com%2Fauth%2Fpeopleapi.readonly&response_type=code\n",
            "\n",
            "Enter your authorization code:\n",
            "··········\n",
            "Mounted at /content/drive\n"
          ],
          "name": "stdout"
        }
      ]
    },
    {
      "metadata": {
        "id": "wrTNpHBB6sqq",
        "colab_type": "code",
        "colab": {}
      },
      "cell_type": "code",
      "source": [
        "from keras.utils import plot_model \n",
        "plot_model(fashion_model, to_file=\"//content/drive/My Drive/Mnist_model.png\", show_shapes=True, show_layer_names=True)"
      ],
      "execution_count": 0,
      "outputs": []
    },
    {
      "metadata": {
        "id": "LEhYU5gBOVrs",
        "colab_type": "code",
        "outputId": "aa154d06-3765-40e8-f9a6-9fd18114b7b2",
        "colab": {
          "base_uri": "https://localhost:8080/",
          "height": 35
        }
      },
      "cell_type": "code",
      "source": [
        "print (epochs)"
      ],
      "execution_count": 0,
      "outputs": [
        {
          "output_type": "stream",
          "text": [
            "range(0, 20)\n"
          ],
          "name": "stdout"
        }
      ]
    },
    {
      "metadata": {
        "id": "Btp9UeDplLlo",
        "colab_type": "code",
        "outputId": "80c555d6-3014-4d10-b747-3c0d1b117777",
        "colab": {
          "base_uri": "https://localhost:8080/",
          "height": 572
        }
      },
      "cell_type": "code",
      "source": [
        "accuracy = fashion_train.history['acc']\n",
        "val_accuracy = fashion_train.history['val_acc']\n",
        "loss = fashion_train.history['loss']\n",
        "val_loss = fashion_train.history['val_loss']\n",
        "plt.plot(epochs, accuracy, 'bo', label='Training accuracy')\n",
        "plt.plot(epochs, val_accuracy, 'b', label='test accuracy')\n",
        "#plt.plot(accuracy)\n",
        "plt.title('Training and test accuracy')\n",
        "plt.xlabel(\"epoch\")\n",
        "plt.ylabel(\"accuracy\")\n",
        "plt.legend()\n",
        "plt.figure()\n",
        "plt.plot(epochs, loss, 'bo', label='Training loss')\n",
        "plt.plot(epochs, val_loss, 'b', label='validation loss')\n",
        "#plt.plot(loss)\n",
        "plt.title('Training and validation loss')\n",
        "plt.xlabel(\"epoch\")\n",
        "plt.ylabel(\"loss\")\n",
        "plt.legend()\n",
        "plt.show()"
      ],
      "execution_count": 0,
      "outputs": [
        {
          "output_type": "display_data",
          "data": {
            "image/png": "[encoded data removed]",
            "text/plain": [
              "<Figure size 432x288 with 1 Axes>"
            ]
          },
          "metadata": {
            "tags": []
          }
        },
        {
          "output_type": "display_data",
          "data": {
            "image/png": "[encoded data removed]",
            "text/plain": [
              "<Figure size 432x288 with 1 Axes>"
            ]
          },
          "metadata": {
            "tags": []
          }
        }
      ]
    },
    {
      "metadata": {
        "id": "oOo1qGJBlOsm",
        "colab_type": "code",
        "colab": {}
      },
      "cell_type": "code",
      "source": [
        "batch_size = 64\n",
        "epochs = 20\n",
        "num_classes = 10"
      ],
      "execution_count": 0,
      "outputs": []
    },
    {
      "metadata": {
        "id": "jwZKGE4vlTWT",
        "colab_type": "code",
        "colab": {}
      },
      "cell_type": "code",
      "source": [
        "fashion_model = Sequential()\n",
        "fashion_model.add(Conv2D(32, kernel_size=(3, 3),activation='linear',padding='same',input_shape=(28,28,1)))\n",
        "fashion_model.add(LeakyReLU(alpha=0.1))\n",
        "fashion_model.add(MaxPooling2D((2, 2),padding='same'))\n",
        "fashion_model.add(Dropout(0.25))\n",
        "fashion_model.add(Conv2D(64, (3, 3), activation='linear',padding='same'))\n",
        "fashion_model.add(LeakyReLU(alpha=0.1))\n",
        "fashion_model.add(MaxPooling2D(pool_size=(2, 2),padding='same'))\n",
        "fashion_model.add(Dropout(0.25))\n",
        "fashion_model.add(Conv2D(128, (3, 3), activation='linear',padding='same'))\n",
        "fashion_model.add(LeakyReLU(alpha=0.1))                  \n",
        "fashion_model.add(MaxPooling2D(pool_size=(2, 2),padding='same'))\n",
        "fashion_model.add(Dropout(0.4))\n",
        "fashion_model.add(Flatten())\n",
        "fashion_model.add(Dense(128, activation='linear'))\n",
        "fashion_model.add(LeakyReLU(alpha=0.1))           \n",
        "fashion_model.add(Dropout(0.3))\n",
        "fashion_model.add(Dense(num_classes, activation='softmax'))"
      ],
      "execution_count": 0,
      "outputs": []
    },
    {
      "metadata": {
        "id": "CAVtXdnullb9",
        "colab_type": "code",
        "outputId": "784e0bb8-e845-45ae-bb72-f56676df2e1c",
        "colab": {
          "base_uri": "https://localhost:8080/",
          "height": 728
        }
      },
      "cell_type": "code",
      "source": [
        "fashion_model.summary()"
      ],
      "execution_count": 0,
      "outputs": [
        {
          "output_type": "stream",
          "text": [
            "_________________________________________________________________\n",
            "Layer (type)                 Output Shape              Param #   \n",
            "=================================================================\n",
            "conv2d_7 (Conv2D)            (None, 28, 28, 32)        320       \n",
            "_________________________________________________________________\n",
            "leaky_re_lu_9 (LeakyReLU)    (None, 28, 28, 32)        0         \n",
            "_________________________________________________________________\n",
            "max_pooling2d_7 (MaxPooling2 (None, 14, 14, 32)        0         \n",
            "_________________________________________________________________\n",
            "dropout_1 (Dropout)          (None, 14, 14, 32)        0         \n",
            "_________________________________________________________________\n",
            "conv2d_8 (Conv2D)            (None, 14, 14, 64)        18496     \n",
            "_________________________________________________________________\n",
            "leaky_re_lu_10 (LeakyReLU)   (None, 14, 14, 64)        0         \n",
            "_________________________________________________________________\n",
            "max_pooling2d_8 (MaxPooling2 (None, 7, 7, 64)          0         \n",
            "_________________________________________________________________\n",
            "dropout_2 (Dropout)          (None, 7, 7, 64)          0         \n",
            "_________________________________________________________________\n",
            "conv2d_9 (Conv2D)            (None, 7, 7, 128)         73856     \n",
            "_________________________________________________________________\n",
            "leaky_re_lu_11 (LeakyReLU)   (None, 7, 7, 128)         0         \n",
            "_________________________________________________________________\n",
            "max_pooling2d_9 (MaxPooling2 (None, 4, 4, 128)         0         \n",
            "_________________________________________________________________\n",
            "dropout_3 (Dropout)          (None, 4, 4, 128)         0         \n",
            "_________________________________________________________________\n",
            "flatten_3 (Flatten)          (None, 2048)              0         \n",
            "_________________________________________________________________\n",
            "dense_5 (Dense)              (None, 128)               262272    \n",
            "_________________________________________________________________\n",
            "leaky_re_lu_12 (LeakyReLU)   (None, 128)               0         \n",
            "_________________________________________________________________\n",
            "dropout_4 (Dropout)          (None, 128)               0         \n",
            "_________________________________________________________________\n",
            "dense_6 (Dense)              (None, 10)                1290      \n",
            "=================================================================\n",
            "Total params: 356,234\n",
            "Trainable params: 356,234\n",
            "Non-trainable params: 0\n",
            "_________________________________________________________________\n"
          ],
          "name": "stdout"
        }
      ]
    },
    {
      "metadata": {
        "id": "zRmdMK2IloiW",
        "colab_type": "code",
        "colab": {}
      },
      "cell_type": "code",
      "source": [
        "fashion_model.compile(loss=keras.losses.categorical_crossentropy, optimizer=keras.optimizers.Adam(),metrics=['accuracy'])\n"
      ],
      "execution_count": 0,
      "outputs": []
    },
    {
      "metadata": {
        "id": "ZDWPTQv4lq8i",
        "colab_type": "code",
        "outputId": "59418342-6103-43de-b606-ce07271a6829",
        "colab": {
          "base_uri": "https://localhost:8080/",
          "height": 728
        }
      },
      "cell_type": "code",
      "source": [
        "fashion_train_dropout = fashion_model.fit(train_X, train_label, batch_size=batch_size,epochs=epochs,verbose=1,validation_data=(valid_X, valid_label))\n"
      ],
      "execution_count": 0,
      "outputs": [
        {
          "output_type": "stream",
          "text": [
            "Train on 48000 samples, validate on 12000 samples\n",
            "Epoch 1/20\n",
            "48000/48000 [==============================] - 11s 235us/step - loss: 0.6084 - acc: 0.7739 - val_loss: 0.3687 - val_acc: 0.8661\n",
            "Epoch 2/20\n",
            "48000/48000 [==============================] - 11s 219us/step - loss: 0.3808 - acc: 0.8607 - val_loss: 0.3065 - val_acc: 0.8855\n",
            "Epoch 3/20\n",
            "48000/48000 [==============================] - 11s 219us/step - loss: 0.3334 - acc: 0.8774 - val_loss: 0.2789 - val_acc: 0.8974\n",
            "Epoch 4/20\n",
            "48000/48000 [==============================] - 11s 219us/step - loss: 0.3051 - acc: 0.8859 - val_loss: 0.2641 - val_acc: 0.8996\n",
            "Epoch 5/20\n",
            "48000/48000 [==============================] - 10s 218us/step - loss: 0.2852 - acc: 0.8927 - val_loss: 0.2599 - val_acc: 0.9046\n",
            "Epoch 6/20\n",
            "48000/48000 [==============================] - 10s 217us/step - loss: 0.2734 - acc: 0.8995 - val_loss: 0.2423 - val_acc: 0.9125\n",
            "Epoch 7/20\n",
            "48000/48000 [==============================] - 10s 217us/step - loss: 0.2602 - acc: 0.9032 - val_loss: 0.2389 - val_acc: 0.9130\n",
            "Epoch 8/20\n",
            "48000/48000 [==============================] - 10s 217us/step - loss: 0.2513 - acc: 0.9063 - val_loss: 0.2320 - val_acc: 0.9150\n",
            "Epoch 9/20\n",
            "48000/48000 [==============================] - 10s 217us/step - loss: 0.2412 - acc: 0.9097 - val_loss: 0.2282 - val_acc: 0.9183\n",
            "Epoch 10/20\n",
            "48000/48000 [==============================] - 10s 216us/step - loss: 0.2373 - acc: 0.9116 - val_loss: 0.2256 - val_acc: 0.9191\n",
            "Epoch 11/20\n",
            "48000/48000 [==============================] - 10s 215us/step - loss: 0.2290 - acc: 0.9138 - val_loss: 0.2280 - val_acc: 0.9173\n",
            "Epoch 12/20\n",
            "48000/48000 [==============================] - 10s 215us/step - loss: 0.2253 - acc: 0.9143 - val_loss: 0.2297 - val_acc: 0.9183\n",
            "Epoch 13/20\n",
            "48000/48000 [==============================] - 10s 216us/step - loss: 0.2226 - acc: 0.9159 - val_loss: 0.2095 - val_acc: 0.9251\n",
            "Epoch 14/20\n",
            "48000/48000 [==============================] - 10s 216us/step - loss: 0.2184 - acc: 0.9189 - val_loss: 0.2197 - val_acc: 0.9203\n",
            "Epoch 15/20\n",
            "48000/48000 [==============================] - 10s 217us/step - loss: 0.2138 - acc: 0.9200 - val_loss: 0.2135 - val_acc: 0.9246\n",
            "Epoch 16/20\n",
            "48000/48000 [==============================] - 10s 216us/step - loss: 0.2104 - acc: 0.9208 - val_loss: 0.2256 - val_acc: 0.9184\n",
            "Epoch 17/20\n",
            "48000/48000 [==============================] - 10s 216us/step - loss: 0.2085 - acc: 0.9200 - val_loss: 0.2213 - val_acc: 0.9224\n",
            "Epoch 18/20\n",
            "48000/48000 [==============================] - 10s 215us/step - loss: 0.2055 - acc: 0.9229 - val_loss: 0.2111 - val_acc: 0.9243\n",
            "Epoch 19/20\n",
            "48000/48000 [==============================] - 10s 216us/step - loss: 0.1991 - acc: 0.9244 - val_loss: 0.2211 - val_acc: 0.9210\n",
            "Epoch 20/20\n",
            "48000/48000 [==============================] - 10s 215us/step - loss: 0.2006 - acc: 0.9238 - val_loss: 0.2203 - val_acc: 0.9232\n"
          ],
          "name": "stdout"
        }
      ]
    },
    {
      "metadata": {
        "id": "iuogaAFaluiv",
        "colab_type": "code",
        "colab": {}
      },
      "cell_type": "code",
      "source": [
        "fashion_model.save(\"fashion_model_dropout.h5py\")\n",
        "\n"
      ],
      "execution_count": 0,
      "outputs": []
    },
    {
      "metadata": {
        "id": "x63aH8RNlwTq",
        "colab_type": "code",
        "outputId": "9587b3e3-34c0-4048-b7cc-c0c66285a829",
        "colab": {
          "base_uri": "https://localhost:8080/",
          "height": 35
        }
      },
      "cell_type": "code",
      "source": [
        "test_eval = fashion_model.evaluate(test_X, test_Y_one_hot, verbose=1)\n"
      ],
      "execution_count": 0,
      "outputs": [
        {
          "output_type": "stream",
          "text": [
            "10000/10000 [==============================] - 1s 88us/step\n"
          ],
          "name": "stdout"
        }
      ]
    },
    {
      "metadata": {
        "id": "QwF7RihjlzLG",
        "colab_type": "code",
        "outputId": "46873ba0-fa44-4a28-e900-b35fb82c1ddc",
        "colab": {
          "base_uri": "https://localhost:8080/",
          "height": 52
        }
      },
      "cell_type": "code",
      "source": [
        "print('Test loss:', test_eval[0])\n",
        "print('Test accuracy:', test_eval[1])"
      ],
      "execution_count": 0,
      "outputs": [
        {
          "output_type": "stream",
          "text": [
            "Test loss: 0.22862390214800835\n",
            "Test accuracy: 0.9196\n"
          ],
          "name": "stdout"
        }
      ]
    },
    {
      "metadata": {
        "id": "Uj1KQ_l-l2hN",
        "colab_type": "code",
        "outputId": "99de9da9-d425-4bfb-adf4-6e411d8218bd",
        "colab": {
          "base_uri": "https://localhost:8080/",
          "height": 544
        }
      },
      "cell_type": "code",
      "source": [
        "accuracy = fashion_train_dropout.history['acc']\n",
        "val_accuracy = fashion_train_dropout.history['val_acc']\n",
        "loss = fashion_train_dropout.history['loss']\n",
        "val_loss = fashion_train_dropout.history['val_loss']\n",
        "epochs = range(len(accuracy))\n",
        "plt.plot(epochs, accuracy, 'bo', label='Training accuracy')\n",
        "plt.plot(epochs, val_accuracy, 'b', label='Validation accuracy')\n",
        "plt.title('Training and validation accuracy')\n",
        "plt.legend()\n",
        "plt.figure()\n",
        "plt.plot(epochs, loss, 'bo', label='Training loss')\n",
        "plt.plot(epochs, val_loss, 'b', label='Validation loss')\n",
        "plt.title('Training and validation loss')\n",
        "plt.legend()\n",
        "plt.show()"
      ],
      "execution_count": 0,
      "outputs": [
        {
          "output_type": "display_data",
          "data": {
            "image/png": "[encoded data removed]",
            "text/plain": [
              "<Figure size 432x288 with 1 Axes>"
            ]
          },
          "metadata": {
            "tags": []
          }
        },
        {
          "output_type": "display_data",
          "data": {
            "image/png": "[encoded data removed]",
            "text/plain": [
              "<Figure size 432x288 with 1 Axes>"
            ]
          },
          "metadata": {
            "tags": []
          }
        }
      ]
    },
    {
      "metadata": {
        "id": "UtSgApn5l-wq",
        "colab_type": "code",
        "colab": {}
      },
      "cell_type": "code",
      "source": [
        "predicted_classes = fashion_model.predict(test_X)\n"
      ],
      "execution_count": 0,
      "outputs": []
    },
    {
      "metadata": {
        "id": "DZPY-mpwmATw",
        "colab_type": "code",
        "colab": {}
      },
      "cell_type": "code",
      "source": [
        "predicted_classes = np.argmax(np.round(predicted_classes),axis=1)\n"
      ],
      "execution_count": 0,
      "outputs": []
    },
    {
      "metadata": {
        "id": "9M5dAbaYmBel",
        "colab_type": "code",
        "outputId": "0663ea0a-46e5-4316-9142-5ef7b0564415",
        "colab": {
          "base_uri": "https://localhost:8080/",
          "height": 35
        }
      },
      "cell_type": "code",
      "source": [
        "predicted_classes.shape, test_Y.shape\n"
      ],
      "execution_count": 0,
      "outputs": [
        {
          "output_type": "execute_result",
          "data": {
            "text/plain": [
              "((10000,), (10000,))"
            ]
          },
          "metadata": {
            "tags": []
          },
          "execution_count": 70
        }
      ]
    },
    {
      "metadata": {
        "id": "aZiPbL24mD_6",
        "colab_type": "code",
        "outputId": "7393b72a-909d-451f-ac86-64ad4ae96bc4",
        "colab": {
          "base_uri": "https://localhost:8080/",
          "height": 315
        }
      },
      "cell_type": "code",
      "source": [
        "correct = np.where(predicted_classes==test_Y)[0]\n",
        "print (\"Found %d correct labels\" % len(correct))\n",
        "for i, correct in enumerate(correct[:9]):\n",
        "    plt.subplot(3,3,i+1)\n",
        "    plt.imshow(test_X[correct].reshape(28,28), cmap='gray', interpolation='none')\n",
        "    plt.title(\"Predicted {}, Class {}\".format(predicted_classes[correct], test_Y[correct]))\n",
        "    plt.tight_layout()"
      ],
      "execution_count": 0,
      "outputs": [
        {
          "output_type": "stream",
          "text": [
            "Found 9158 correct labels\n"
          ],
          "name": "stdout"
        },
        {
          "output_type": "display_data",
          "data": {
            "image/png": "[encoded data removed]",
            "text/plain": [
              "<Figure size 432x288 with 8 Axes>"
            ]
          },
          "metadata": {
            "tags": []
          }
        }
      ]
    },
    {
      "metadata": {
        "id": "iuHqWrVGmGUW",
        "colab_type": "code",
        "outputId": "61978f59-d07e-47af-a4b0-f3743c467d64",
        "colab": {
          "base_uri": "https://localhost:8080/",
          "height": 315
        }
      },
      "cell_type": "code",
      "source": [
        "incorrect = np.where(predicted_classes!=test_Y)[0]\n",
        "print (\"Found %d incorrect labels\" % len(incorrect))\n",
        "for i, incorrect in enumerate(incorrect[:9]):\n",
        "    plt.subplot(3,3,i+1)\n",
        "    plt.imshow(test_X[incorrect].reshape(28,28), cmap='gray', interpolation='none')\n",
        "    plt.title(\"Predicted {}, Class {}\".format(predicted_classes[incorrect], test_Y[incorrect]))\n",
        "    plt.tight_layout()"
      ],
      "execution_count": 0,
      "outputs": [
        {
          "output_type": "stream",
          "text": [
            "Found 842 incorrect labels\n"
          ],
          "name": "stdout"
        },
        {
          "output_type": "display_data",
          "data": {
            "image/png": "[encoded data removed]",
            "text/plain": [
              "<Figure size 432x288 with 8 Axes>"
            ]
          },
          "metadata": {
            "tags": []
          }
        }
      ]
    },
    {
      "metadata": {
        "id": "_6r-fnsJmIVk",
        "colab_type": "code",
        "outputId": "b48d0209-adb4-454c-96ba-e38aeb1ef366",
        "colab": {
          "base_uri": "https://localhost:8080/",
          "height": 312
        }
      },
      "cell_type": "code",
      "source": [
        "from sklearn.metrics import classification_report\n",
        "target_names = [\"Class {}\".format(i) for i in range(num_classes)]\n",
        "print(classification_report(test_Y, predicted_classes, target_names=target_names))"
      ],
      "execution_count": 0,
      "outputs": [
        {
          "output_type": "stream",
          "text": [
            "              precision    recall  f1-score   support\n",
            "\n",
            "     Class 0       0.79      0.88      0.83      1000\n",
            "     Class 1       1.00      0.98      0.99      1000\n",
            "     Class 2       0.92      0.82      0.87      1000\n",
            "     Class 3       0.92      0.92      0.92      1000\n",
            "     Class 4       0.85      0.90      0.87      1000\n",
            "     Class 5       0.99      0.96      0.98      1000\n",
            "     Class 6       0.80      0.76      0.78      1000\n",
            "     Class 7       0.94      0.98      0.96      1000\n",
            "     Class 8       0.99      0.99      0.99      1000\n",
            "     Class 9       0.97      0.96      0.97      1000\n",
            "\n",
            "   micro avg       0.92      0.92      0.92     10000\n",
            "   macro avg       0.92      0.92      0.92     10000\n",
            "weighted avg       0.92      0.92      0.92     10000\n",
            "\n"
          ],
          "name": "stdout"
        }
      ]
    }
  ]
}